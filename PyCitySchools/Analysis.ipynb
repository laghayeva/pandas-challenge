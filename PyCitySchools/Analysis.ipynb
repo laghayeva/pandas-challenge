{
 "cells": [
  {
   "cell_type": "code",
   "execution_count": 3,
   "id": "dad1a98d-ef9a-4a11-a751-cd8033ca2877",
   "metadata": {},
   "outputs": [],
   "source": [
    "#Importing pandas and path\n",
    "import pandas as pd\n",
    "from pathlib import Path"
   ]
  },
  {
   "cell_type": "code",
   "execution_count": null,
   "id": "5a2e4d08-661d-4265-8c20-6be871a21d35",
   "metadata": {},
   "outputs": [],
   "source": [
    "# Adding the files to load\n",
    "schol_data_to_load = Path(\"Resources/schools"
   ]
  },
  {
   "cell_type": "code",
   "execution_count": null,
   "id": "fb007478-667f-418e-abdc-17ad25763dc0",
   "metadata": {},
   "outputs": [],
   "source": []
  }
 ],
 "metadata": {
  "kernelspec": {
   "display_name": "Python 3 (ipykernel)",
   "language": "python",
   "name": "python3"
  },
  "language_info": {
   "codemirror_mode": {
    "name": "ipython",
    "version": 3
   },
   "file_extension": ".py",
   "mimetype": "text/x-python",
   "name": "python",
   "nbconvert_exporter": "python",
   "pygments_lexer": "ipython3",
   "version": "3.12.7"
  }
 },
 "nbformat": 4,
 "nbformat_minor": 5
}
